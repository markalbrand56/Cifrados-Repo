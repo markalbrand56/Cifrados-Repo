{
 "cells": [
  {
   "metadata": {},
   "cell_type": "markdown",
   "source": [
    "# Ejercicio QKD\n",
    "\n",
    "Mark Albrand - 21004\n",
    "\n",
    "## Simulación del protocolo BB84"
   ],
   "id": "736e1c082e79bbe6"
  },
  {
   "metadata": {
    "ExecuteTime": {
     "end_time": "2025-05-30T03:52:19.220084Z",
     "start_time": "2025-05-30T03:52:19.217059Z"
    }
   },
   "cell_type": "code",
   "source": [
    "import random\n",
    "import pandas as pd"
   ],
   "id": "2fe867967b947a7f",
   "outputs": [],
   "execution_count": 139
  },
  {
   "metadata": {
    "ExecuteTime": {
     "end_time": "2025-05-30T03:52:19.237709Z",
     "start_time": "2025-05-30T03:52:19.234906Z"
    }
   },
   "cell_type": "code",
   "source": [
    "# Simbolizamos bases: 'R' (Recta ↕), 'D' (Diagonal ↗)\n",
    "BASES = ['R', 'D']\n",
    "BITS = [0, 1]"
   ],
   "id": "42747a59ad6bc112",
   "outputs": [],
   "execution_count": 140
  },
  {
   "metadata": {
    "ExecuteTime": {
     "end_time": "2025-05-30T03:52:19.251290Z",
     "start_time": "2025-05-30T03:52:19.247846Z"
    }
   },
   "cell_type": "code",
   "source": [
    "def choose_bit():\n",
    "    return random.choice(BITS)"
   ],
   "id": "4cb9d687cc562da5",
   "outputs": [],
   "execution_count": 141
  },
  {
   "metadata": {
    "ExecuteTime": {
     "end_time": "2025-05-30T03:52:19.268867Z",
     "start_time": "2025-05-30T03:52:19.265502Z"
    }
   },
   "cell_type": "code",
   "source": [
    "def choose_base():\n",
    "    return random.choice(BASES)"
   ],
   "id": "7ddd12e35f289cf7",
   "outputs": [],
   "execution_count": 142
  },
  {
   "metadata": {
    "ExecuteTime": {
     "end_time": "2025-05-30T03:52:19.286610Z",
     "start_time": "2025-05-30T03:52:19.284364Z"
    }
   },
   "cell_type": "code",
   "source": [
    "def encode_photon(bit, base):\n",
    "    # Simula el fotón como una combinación del bit y la base\n",
    "    return (bit, base)"
   ],
   "id": "af87a3834ec0d724",
   "outputs": [],
   "execution_count": 143
  },
  {
   "metadata": {
    "ExecuteTime": {
     "end_time": "2025-05-30T03:52:19.300672Z",
     "start_time": "2025-05-30T03:52:19.298099Z"
    }
   },
   "cell_type": "code",
   "source": [
    "def measure_photon(photon, measurement_base):\n",
    "    original_bit, original_base = photon\n",
    "    if original_base == measurement_base:\n",
    "        return original_bit  # base correcta, se mide el bit exacto\n",
    "    else:\n",
    "        return random.choice(BITS)  # base incorrecta, se mide aleatoriamente"
   ],
   "id": "e8fb821d25096d52",
   "outputs": [],
   "execution_count": 144
  },
  {
   "metadata": {
    "ExecuteTime": {
     "end_time": "2025-05-30T03:52:19.308754Z",
     "start_time": "2025-05-30T03:52:19.303203Z"
    }
   },
   "cell_type": "code",
   "source": [
    "def simulate_bb84(n=15, eve_present=True, eve_probability=0.3):\n",
    "    results = []\n",
    "\n",
    "    for i in range(n):\n",
    "        alice_bit = choose_bit()\n",
    "        alice_base = choose_base()\n",
    "        photon = encode_photon(alice_bit, alice_base)\n",
    "\n",
    "        # Eve intercepta aleatoriamente\n",
    "        if eve_present and random.random() < eve_probability:\n",
    "            eve_base = choose_base()\n",
    "            eve_bit = measure_photon(photon, eve_base)\n",
    "            photon = encode_photon(eve_bit, eve_base)  # Eve reenvía un nuevo fotón\n",
    "\n",
    "        bob_base = choose_base()\n",
    "        bob_bit = measure_photon(photon, bob_base)\n",
    "        bases_match = alice_base == bob_base\n",
    "        use_bit = 'sí' if bases_match else 'no'\n",
    "\n",
    "        results.append({\n",
    "            'N°': i+1,\n",
    "            'Bit de Alice': alice_bit,\n",
    "            'Base de Alice': '↕' if alice_base == 'R' else '↗',\n",
    "            'Fotón enviado (codificado)': alice_bit,\n",
    "            'Base de Bob': '↕' if bob_base == 'R' else '↗',\n",
    "            'Bit generado': bob_bit,\n",
    "            '¿Bases coinciden?': 'sí' if bases_match else 'no',\n",
    "            '¿Usar bit?': use_bit\n",
    "        })\n",
    "\n",
    "    return pd.DataFrame(results)"
   ],
   "id": "9d1538bba1307433",
   "outputs": [],
   "execution_count": 145
  },
  {
   "cell_type": "code",
   "id": "initial_id",
   "metadata": {
    "collapsed": true,
    "ExecuteTime": {
     "end_time": "2025-05-30T03:52:19.331462Z",
     "start_time": "2025-05-30T03:52:19.323410Z"
    }
   },
   "source": [
    "# Ejecutar simulación\n",
    "df = simulate_bb84(n=15, eve_present=True, eve_probability=0.3)\n",
    "\n",
    "df"
   ],
   "outputs": [
    {
     "data": {
      "text/plain": [
       "    N°  Bit de Alice Base de Alice  Fotón enviado (codificado) Base de Bob  \\\n",
       "0    1             0             ↕                           0           ↗   \n",
       "1    2             0             ↗                           0           ↗   \n",
       "2    3             0             ↕                           0           ↕   \n",
       "3    4             0             ↗                           0           ↕   \n",
       "4    5             0             ↗                           0           ↕   \n",
       "5    6             0             ↗                           0           ↗   \n",
       "6    7             1             ↕                           1           ↗   \n",
       "7    8             1             ↕                           1           ↗   \n",
       "8    9             0             ↗                           0           ↗   \n",
       "9   10             1             ↕                           1           ↕   \n",
       "10  11             1             ↕                           1           ↗   \n",
       "11  12             1             ↗                           1           ↗   \n",
       "12  13             0             ↗                           0           ↗   \n",
       "13  14             0             ↕                           0           ↕   \n",
       "14  15             1             ↗                           1           ↗   \n",
       "\n",
       "    Bit generado ¿Bases coinciden? ¿Usar bit?  \n",
       "0              1                no         no  \n",
       "1              0                sí         sí  \n",
       "2              1                sí         sí  \n",
       "3              1                no         no  \n",
       "4              0                no         no  \n",
       "5              0                sí         sí  \n",
       "6              1                no         no  \n",
       "7              0                no         no  \n",
       "8              0                sí         sí  \n",
       "9              1                sí         sí  \n",
       "10             0                no         no  \n",
       "11             1                sí         sí  \n",
       "12             0                sí         sí  \n",
       "13             0                sí         sí  \n",
       "14             1                sí         sí  "
      ],
      "text/html": [
       "<div>\n",
       "<style scoped>\n",
       "    .dataframe tbody tr th:only-of-type {\n",
       "        vertical-align: middle;\n",
       "    }\n",
       "\n",
       "    .dataframe tbody tr th {\n",
       "        vertical-align: top;\n",
       "    }\n",
       "\n",
       "    .dataframe thead th {\n",
       "        text-align: right;\n",
       "    }\n",
       "</style>\n",
       "<table border=\"1\" class=\"dataframe\">\n",
       "  <thead>\n",
       "    <tr style=\"text-align: right;\">\n",
       "      <th></th>\n",
       "      <th>N°</th>\n",
       "      <th>Bit de Alice</th>\n",
       "      <th>Base de Alice</th>\n",
       "      <th>Fotón enviado (codificado)</th>\n",
       "      <th>Base de Bob</th>\n",
       "      <th>Bit generado</th>\n",
       "      <th>¿Bases coinciden?</th>\n",
       "      <th>¿Usar bit?</th>\n",
       "    </tr>\n",
       "  </thead>\n",
       "  <tbody>\n",
       "    <tr>\n",
       "      <th>0</th>\n",
       "      <td>1</td>\n",
       "      <td>0</td>\n",
       "      <td>↕</td>\n",
       "      <td>0</td>\n",
       "      <td>↗</td>\n",
       "      <td>1</td>\n",
       "      <td>no</td>\n",
       "      <td>no</td>\n",
       "    </tr>\n",
       "    <tr>\n",
       "      <th>1</th>\n",
       "      <td>2</td>\n",
       "      <td>0</td>\n",
       "      <td>↗</td>\n",
       "      <td>0</td>\n",
       "      <td>↗</td>\n",
       "      <td>0</td>\n",
       "      <td>sí</td>\n",
       "      <td>sí</td>\n",
       "    </tr>\n",
       "    <tr>\n",
       "      <th>2</th>\n",
       "      <td>3</td>\n",
       "      <td>0</td>\n",
       "      <td>↕</td>\n",
       "      <td>0</td>\n",
       "      <td>↕</td>\n",
       "      <td>1</td>\n",
       "      <td>sí</td>\n",
       "      <td>sí</td>\n",
       "    </tr>\n",
       "    <tr>\n",
       "      <th>3</th>\n",
       "      <td>4</td>\n",
       "      <td>0</td>\n",
       "      <td>↗</td>\n",
       "      <td>0</td>\n",
       "      <td>↕</td>\n",
       "      <td>1</td>\n",
       "      <td>no</td>\n",
       "      <td>no</td>\n",
       "    </tr>\n",
       "    <tr>\n",
       "      <th>4</th>\n",
       "      <td>5</td>\n",
       "      <td>0</td>\n",
       "      <td>↗</td>\n",
       "      <td>0</td>\n",
       "      <td>↕</td>\n",
       "      <td>0</td>\n",
       "      <td>no</td>\n",
       "      <td>no</td>\n",
       "    </tr>\n",
       "    <tr>\n",
       "      <th>5</th>\n",
       "      <td>6</td>\n",
       "      <td>0</td>\n",
       "      <td>↗</td>\n",
       "      <td>0</td>\n",
       "      <td>↗</td>\n",
       "      <td>0</td>\n",
       "      <td>sí</td>\n",
       "      <td>sí</td>\n",
       "    </tr>\n",
       "    <tr>\n",
       "      <th>6</th>\n",
       "      <td>7</td>\n",
       "      <td>1</td>\n",
       "      <td>↕</td>\n",
       "      <td>1</td>\n",
       "      <td>↗</td>\n",
       "      <td>1</td>\n",
       "      <td>no</td>\n",
       "      <td>no</td>\n",
       "    </tr>\n",
       "    <tr>\n",
       "      <th>7</th>\n",
       "      <td>8</td>\n",
       "      <td>1</td>\n",
       "      <td>↕</td>\n",
       "      <td>1</td>\n",
       "      <td>↗</td>\n",
       "      <td>0</td>\n",
       "      <td>no</td>\n",
       "      <td>no</td>\n",
       "    </tr>\n",
       "    <tr>\n",
       "      <th>8</th>\n",
       "      <td>9</td>\n",
       "      <td>0</td>\n",
       "      <td>↗</td>\n",
       "      <td>0</td>\n",
       "      <td>↗</td>\n",
       "      <td>0</td>\n",
       "      <td>sí</td>\n",
       "      <td>sí</td>\n",
       "    </tr>\n",
       "    <tr>\n",
       "      <th>9</th>\n",
       "      <td>10</td>\n",
       "      <td>1</td>\n",
       "      <td>↕</td>\n",
       "      <td>1</td>\n",
       "      <td>↕</td>\n",
       "      <td>1</td>\n",
       "      <td>sí</td>\n",
       "      <td>sí</td>\n",
       "    </tr>\n",
       "    <tr>\n",
       "      <th>10</th>\n",
       "      <td>11</td>\n",
       "      <td>1</td>\n",
       "      <td>↕</td>\n",
       "      <td>1</td>\n",
       "      <td>↗</td>\n",
       "      <td>0</td>\n",
       "      <td>no</td>\n",
       "      <td>no</td>\n",
       "    </tr>\n",
       "    <tr>\n",
       "      <th>11</th>\n",
       "      <td>12</td>\n",
       "      <td>1</td>\n",
       "      <td>↗</td>\n",
       "      <td>1</td>\n",
       "      <td>↗</td>\n",
       "      <td>1</td>\n",
       "      <td>sí</td>\n",
       "      <td>sí</td>\n",
       "    </tr>\n",
       "    <tr>\n",
       "      <th>12</th>\n",
       "      <td>13</td>\n",
       "      <td>0</td>\n",
       "      <td>↗</td>\n",
       "      <td>0</td>\n",
       "      <td>↗</td>\n",
       "      <td>0</td>\n",
       "      <td>sí</td>\n",
       "      <td>sí</td>\n",
       "    </tr>\n",
       "    <tr>\n",
       "      <th>13</th>\n",
       "      <td>14</td>\n",
       "      <td>0</td>\n",
       "      <td>↕</td>\n",
       "      <td>0</td>\n",
       "      <td>↕</td>\n",
       "      <td>0</td>\n",
       "      <td>sí</td>\n",
       "      <td>sí</td>\n",
       "    </tr>\n",
       "    <tr>\n",
       "      <th>14</th>\n",
       "      <td>15</td>\n",
       "      <td>1</td>\n",
       "      <td>↗</td>\n",
       "      <td>1</td>\n",
       "      <td>↗</td>\n",
       "      <td>1</td>\n",
       "      <td>sí</td>\n",
       "      <td>sí</td>\n",
       "    </tr>\n",
       "  </tbody>\n",
       "</table>\n",
       "</div>"
      ]
     },
     "execution_count": 146,
     "metadata": {},
     "output_type": "execute_result"
    }
   ],
   "execution_count": 146
  },
  {
   "metadata": {
    "ExecuteTime": {
     "end_time": "2025-05-30T03:52:23.918806Z",
     "start_time": "2025-05-30T03:52:23.914076Z"
    }
   },
   "cell_type": "code",
   "source": [
    "# Análisis\n",
    "usable_bits = df[df['¿Usar bit?'] == 'sí']\n",
    "num_usable = len(usable_bits)\n",
    "total = len(df)\n",
    "percentage = (num_usable / total) * 100\n",
    "\n",
    "print(f\"¿Cuántos bits finales obtuvieron de la clave?: {num_usable}\")\n",
    "print(f\"¿Qué porcentaje representa respecto al total?: {percentage:.2f}%\")"
   ],
   "id": "f67fb770078999e3",
   "outputs": [
    {
     "name": "stdout",
     "output_type": "stream",
     "text": [
      "¿Cuántos bits finales obtuvieron de la clave?: 9\n",
      "¿Qué porcentaje representa respecto al total?: 60.00%\n"
     ]
    }
   ],
   "execution_count": 150
  },
  {
   "metadata": {},
   "cell_type": "markdown",
   "source": [
    "### ¿Qué pasaría si Eve interceptara los fotones y usara bases incorrectas?\n",
    "Si Eve intercepta y mide los fotones con la base incorrecta, puede alterar el estado del fotón al reenviarlo a Bob. Esto introduce errores en los bits que Bob mide, incluso cuando su base coincide con la de Alice. Como resultado, la clave generada tendrá errores.\n",
    "\n",
    "### ¿Cómo se puede detectar su presencia?\n",
    "Después de establecer la clave, Alice y Bob pueden comparar una muestra aleatoria de los bits generados (por un canal público).\n",
    "Si detectan una tasa de error superior al esperado, concluyen que hubo una interferencia (presencia de un espía).\n",
    "\n",
    "Ejemplo de prueba: Comparar 25% de la clave públicamente. Si hay muchos errores → ¡Alguien (Eve) está espiando!\n",
    "\n",
    "### ¿Qué ventajas y desventajas tiene este protocolo frente a otros cifrados tradicionales?\n",
    "\n",
    "✅ Ventajas:\n",
    "\n",
    "- Seguridad garantizada por la física cuántica, no por problemas matemáticos difíciles.\n",
    "- Detección de espionaje: cualquier intento de interceptar la clave altera los resultados y puede ser detectado.\n",
    "- Es invulnerable a ataques de computadoras cuánticas si se usa correctamente.\n",
    "\n",
    "⚠️ Desventajas:\n",
    "\n",
    "- Requiere tecnología cuántica costosa y delicada (emisores y detectores de fotones).\n",
    "- Tiene limitaciones prácticas como la distancia máxima y la tasa de transmisión.\n",
    "- No reemplaza por completo el cifrado clásico, se utiliza principalmente para distribuir claves seguras, no para cifrar datos directamente."
   ],
   "id": "329823dd08c04edf"
  }
 ],
 "metadata": {
  "kernelspec": {
   "display_name": "Python 3",
   "language": "python",
   "name": "python3"
  },
  "language_info": {
   "codemirror_mode": {
    "name": "ipython",
    "version": 2
   },
   "file_extension": ".py",
   "mimetype": "text/x-python",
   "name": "python",
   "nbconvert_exporter": "python",
   "pygments_lexer": "ipython2",
   "version": "2.7.6"
  }
 },
 "nbformat": 4,
 "nbformat_minor": 5
}
